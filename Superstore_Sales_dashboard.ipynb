{
 "cells": [
  {
   "cell_type": "code",
   "execution_count": 1,
   "id": "8d4cee3e",
   "metadata": {},
   "outputs": [],
   "source": [
    "import pandas as pd\n",
    "import seaborn as sns\n",
    "df1 = pd.read_csv(\"C:/Users/HP/Documents/superstore_salesData.csv\", encoding='latin-1')"
   ]
  },
  {
   "cell_type": "code",
   "execution_count": 2,
   "id": "9ad1379f",
   "metadata": {},
   "outputs": [
    {
     "data": {
      "text/html": [
       "<div>\n",
       "<style scoped>\n",
       "    .dataframe tbody tr th:only-of-type {\n",
       "        vertical-align: middle;\n",
       "    }\n",
       "\n",
       "    .dataframe tbody tr th {\n",
       "        vertical-align: top;\n",
       "    }\n",
       "\n",
       "    .dataframe thead th {\n",
       "        text-align: right;\n",
       "    }\n",
       "</style>\n",
       "<table border=\"1\" class=\"dataframe\">\n",
       "  <thead>\n",
       "    <tr style=\"text-align: right;\">\n",
       "      <th></th>\n",
       "      <th>order_id</th>\n",
       "      <th>order_date</th>\n",
       "      <th>ship_date</th>\n",
       "      <th>ship_mode</th>\n",
       "      <th>customer_name</th>\n",
       "      <th>segment</th>\n",
       "      <th>state</th>\n",
       "      <th>country</th>\n",
       "      <th>market</th>\n",
       "      <th>region</th>\n",
       "      <th>...</th>\n",
       "      <th>category</th>\n",
       "      <th>sub_category</th>\n",
       "      <th>product_name</th>\n",
       "      <th>sales</th>\n",
       "      <th>quantity</th>\n",
       "      <th>discount</th>\n",
       "      <th>profit</th>\n",
       "      <th>shipping_cost</th>\n",
       "      <th>order_priority</th>\n",
       "      <th>year</th>\n",
       "    </tr>\n",
       "  </thead>\n",
       "  <tbody>\n",
       "    <tr>\n",
       "      <th>0</th>\n",
       "      <td>AG-2011-2040</td>\n",
       "      <td>1/1/2011</td>\n",
       "      <td>1/6/2011</td>\n",
       "      <td>Standard Class</td>\n",
       "      <td>Toby Braunhardt</td>\n",
       "      <td>Consumer</td>\n",
       "      <td>Constantine</td>\n",
       "      <td>Algeria</td>\n",
       "      <td>Africa</td>\n",
       "      <td>Africa</td>\n",
       "      <td>...</td>\n",
       "      <td>Office Supplies</td>\n",
       "      <td>Storage</td>\n",
       "      <td>Tenex Lockers, Blue</td>\n",
       "      <td>408</td>\n",
       "      <td>2.0</td>\n",
       "      <td>0.0</td>\n",
       "      <td>106.140</td>\n",
       "      <td>35.46</td>\n",
       "      <td>Medium</td>\n",
       "      <td>2011</td>\n",
       "    </tr>\n",
       "    <tr>\n",
       "      <th>1</th>\n",
       "      <td>IN-2011-47883</td>\n",
       "      <td>1/1/2011</td>\n",
       "      <td>1/8/2011</td>\n",
       "      <td>Standard Class</td>\n",
       "      <td>Joseph Holt</td>\n",
       "      <td>Consumer</td>\n",
       "      <td>New South Wales</td>\n",
       "      <td>Australia</td>\n",
       "      <td>APAC</td>\n",
       "      <td>Oceania</td>\n",
       "      <td>...</td>\n",
       "      <td>Office Supplies</td>\n",
       "      <td>Supplies</td>\n",
       "      <td>Acme Trimmer, High Speed</td>\n",
       "      <td>120</td>\n",
       "      <td>3.0</td>\n",
       "      <td>0.1</td>\n",
       "      <td>36.036</td>\n",
       "      <td>9.72</td>\n",
       "      <td>Medium</td>\n",
       "      <td>2011</td>\n",
       "    </tr>\n",
       "    <tr>\n",
       "      <th>2</th>\n",
       "      <td>HU-2011-1220</td>\n",
       "      <td>1/1/2011</td>\n",
       "      <td>1/5/2011</td>\n",
       "      <td>Second Class</td>\n",
       "      <td>Annie Thurman</td>\n",
       "      <td>Consumer</td>\n",
       "      <td>Budapest</td>\n",
       "      <td>Hungary</td>\n",
       "      <td>EMEA</td>\n",
       "      <td>EMEA</td>\n",
       "      <td>...</td>\n",
       "      <td>Office Supplies</td>\n",
       "      <td>Storage</td>\n",
       "      <td>Tenex Box, Single Width</td>\n",
       "      <td>66</td>\n",
       "      <td>4.0</td>\n",
       "      <td>0.0</td>\n",
       "      <td>29.640</td>\n",
       "      <td>8.17</td>\n",
       "      <td>High</td>\n",
       "      <td>2011</td>\n",
       "    </tr>\n",
       "    <tr>\n",
       "      <th>3</th>\n",
       "      <td>IT-2011-3647632</td>\n",
       "      <td>1/1/2011</td>\n",
       "      <td>1/5/2011</td>\n",
       "      <td>Second Class</td>\n",
       "      <td>Eugene Moren</td>\n",
       "      <td>Home Office</td>\n",
       "      <td>Stockholm</td>\n",
       "      <td>Sweden</td>\n",
       "      <td>EU</td>\n",
       "      <td>North</td>\n",
       "      <td>...</td>\n",
       "      <td>Office Supplies</td>\n",
       "      <td>Paper</td>\n",
       "      <td>Enermax Note Cards, Premium</td>\n",
       "      <td>45</td>\n",
       "      <td>3.0</td>\n",
       "      <td>0.5</td>\n",
       "      <td>-26.055</td>\n",
       "      <td>4.82</td>\n",
       "      <td>High</td>\n",
       "      <td>2011</td>\n",
       "    </tr>\n",
       "    <tr>\n",
       "      <th>4</th>\n",
       "      <td>IN-2011-47883</td>\n",
       "      <td>1/1/2011</td>\n",
       "      <td>1/8/2011</td>\n",
       "      <td>Standard Class</td>\n",
       "      <td>Joseph Holt</td>\n",
       "      <td>Consumer</td>\n",
       "      <td>New South Wales</td>\n",
       "      <td>Australia</td>\n",
       "      <td>APAC</td>\n",
       "      <td>Oceania</td>\n",
       "      <td>...</td>\n",
       "      <td>Furniture</td>\n",
       "      <td>Furnishings</td>\n",
       "      <td>Eldon Light Bulb, Duo Pack</td>\n",
       "      <td>114</td>\n",
       "      <td>5.0</td>\n",
       "      <td>0.1</td>\n",
       "      <td>37.770</td>\n",
       "      <td>4.70</td>\n",
       "      <td>Medium</td>\n",
       "      <td>2011</td>\n",
       "    </tr>\n",
       "  </tbody>\n",
       "</table>\n",
       "<p>5 rows × 21 columns</p>\n",
       "</div>"
      ],
      "text/plain": [
       "          order_id order_date ship_date       ship_mode    customer_name  \\\n",
       "0     AG-2011-2040   1/1/2011  1/6/2011  Standard Class  Toby Braunhardt   \n",
       "1    IN-2011-47883   1/1/2011  1/8/2011  Standard Class      Joseph Holt   \n",
       "2     HU-2011-1220   1/1/2011  1/5/2011    Second Class    Annie Thurman   \n",
       "3  IT-2011-3647632   1/1/2011  1/5/2011    Second Class     Eugene Moren   \n",
       "4    IN-2011-47883   1/1/2011  1/8/2011  Standard Class      Joseph Holt   \n",
       "\n",
       "       segment            state    country  market   region  ...  \\\n",
       "0     Consumer      Constantine    Algeria  Africa   Africa  ...   \n",
       "1     Consumer  New South Wales  Australia    APAC  Oceania  ...   \n",
       "2     Consumer         Budapest    Hungary    EMEA     EMEA  ...   \n",
       "3  Home Office        Stockholm     Sweden      EU    North  ...   \n",
       "4     Consumer  New South Wales  Australia    APAC  Oceania  ...   \n",
       "\n",
       "          category sub_category                 product_name sales quantity  \\\n",
       "0  Office Supplies      Storage          Tenex Lockers, Blue   408      2.0   \n",
       "1  Office Supplies     Supplies     Acme Trimmer, High Speed   120      3.0   \n",
       "2  Office Supplies      Storage      Tenex Box, Single Width    66      4.0   \n",
       "3  Office Supplies        Paper  Enermax Note Cards, Premium    45      3.0   \n",
       "4        Furniture  Furnishings   Eldon Light Bulb, Duo Pack   114      5.0   \n",
       "\n",
       "   discount   profit  shipping_cost  order_priority  year  \n",
       "0       0.0  106.140          35.46          Medium  2011  \n",
       "1       0.1   36.036           9.72          Medium  2011  \n",
       "2       0.0   29.640           8.17            High  2011  \n",
       "3       0.5  -26.055           4.82            High  2011  \n",
       "4       0.1   37.770           4.70          Medium  2011  \n",
       "\n",
       "[5 rows x 21 columns]"
      ]
     },
     "execution_count": 2,
     "metadata": {},
     "output_type": "execute_result"
    }
   ],
   "source": [
    "df1.head()"
   ]
  },
  {
   "cell_type": "code",
   "execution_count": 3,
   "id": "916e23e3",
   "metadata": {},
   "outputs": [
    {
     "data": {
      "image/png": "[encoded data removed]",
      "text/plain": [
       "<Figure size 432x288 with 1 Axes>"
      ]
     },
     "metadata": {
      "needs_background": "light"
     },
     "output_type": "display_data"
    }
   ],
   "source": [
    "import matplotlib.pyplot as plt\n",
    "categories = ['Category A', 'Category B', 'Category C']\n",
    "values = [15, 24, 30]\n",
    "\n",
    "plt.bar(categories, values, color='skyblue')\n",
    "plt.xlabel('Categories')\n",
    "plt.ylabel('Values')\n",
    "plt.title('Basic Vertical Bar Graph')\n",
    "plt.show()"
   ]
  },
  {
   "cell_type": "code",
   "execution_count": null,
   "id": "0442c6d1",
   "metadata": {},
   "outputs": [],
   "source": []
  },
  {
   "cell_type": "code",
   "execution_count": 4,
   "id": "542a6751",
   "metadata": {},
   "outputs": [
    {
     "name": "stdout",
     "output_type": "stream",
     "text": [
      "<class 'pandas.core.frame.DataFrame'>\n",
      "RangeIndex: 51404 entries, 0 to 51403\n",
      "Data columns (total 21 columns):\n",
      " #   Column          Non-Null Count  Dtype  \n",
      "---  ------          --------------  -----  \n",
      " 0   order_id        51404 non-null  object \n",
      " 1   order_date      51404 non-null  object \n",
      " 2   ship_date       51404 non-null  object \n",
      " 3   ship_mode       51404 non-null  object \n",
      " 4   customer_name   51404 non-null  object \n",
      " 5   segment         51404 non-null  object \n",
      " 6   state           51404 non-null  object \n",
      " 7   country         51404 non-null  object \n",
      " 8   market          51404 non-null  object \n",
      " 9   region          51404 non-null  object \n",
      " 10  product_id      51404 non-null  object \n",
      " 11  category        51404 non-null  object \n",
      " 12  sub_category    51404 non-null  object \n",
      " 13  product_name    51404 non-null  object \n",
      " 14  sales           51399 non-null  object \n",
      " 15  quantity        51401 non-null  float64\n",
      " 16  discount        51400 non-null  float64\n",
      " 17  profit          51401 non-null  float64\n",
      " 18  shipping_cost   51402 non-null  float64\n",
      " 19  order_priority  51404 non-null  object \n",
      " 20  year            51404 non-null  int64  \n",
      "dtypes: float64(4), int64(1), object(16)\n",
      "memory usage: 8.2+ MB\n"
     ]
    }
   ],
   "source": [
    "df1.info()"
   ]
  },
  {
   "cell_type": "code",
   "execution_count": 5,
   "id": "4de1803f",
   "metadata": {},
   "outputs": [],
   "source": [
    "df = df1.dropna()  #drop missing value"
   ]
  },
  {
   "cell_type": "code",
   "execution_count": 6,
   "id": "b385bee5",
   "metadata": {},
   "outputs": [
    {
     "data": {
      "text/plain": [
       "order_id          0\n",
       "order_date        0\n",
       "ship_date         0\n",
       "ship_mode         0\n",
       "customer_name     0\n",
       "segment           0\n",
       "state             0\n",
       "country           0\n",
       "market            0\n",
       "region            0\n",
       "product_id        0\n",
       "category          0\n",
       "sub_category      0\n",
       "product_name      0\n",
       "sales             0\n",
       "quantity          0\n",
       "discount          0\n",
       "profit            0\n",
       "shipping_cost     0\n",
       "order_priority    0\n",
       "year              0\n",
       "dtype: int64"
      ]
     },
     "execution_count": 6,
     "metadata": {},
     "output_type": "execute_result"
    }
   ],
   "source": [
    "df.isna().sum()"
   ]
  },
  {
   "cell_type": "code",
   "execution_count": 7,
   "id": "5f7cd944",
   "metadata": {},
   "outputs": [],
   "source": [
    "#Giving some of the columns their appropriate datatype"
   ]
  },
  {
   "cell_type": "code",
   "execution_count": 8,
   "id": "bd402bb5",
   "metadata": {},
   "outputs": [
    {
     "name": "stderr",
     "output_type": "stream",
     "text": [
      "C:\\Users\\HP\\AppData\\Local\\Temp\\ipykernel_7324\\474059315.py:1: SettingWithCopyWarning: \n",
      "A value is trying to be set on a copy of a slice from a DataFrame.\n",
      "Try using .loc[row_indexer,col_indexer] = value instead\n",
      "\n",
      "See the caveats in the documentation: https://pandas.pydata.org/pandas-docs/stable/user_guide/indexing.html#returning-a-view-versus-a-copy\n",
      "  df['order_date'] = pd.to_datetime(df['order_date'], errors='coerce')\n",
      "C:\\Users\\HP\\AppData\\Local\\Temp\\ipykernel_7324\\474059315.py:2: SettingWithCopyWarning: \n",
      "A value is trying to be set on a copy of a slice from a DataFrame.\n",
      "Try using .loc[row_indexer,col_indexer] = value instead\n",
      "\n",
      "See the caveats in the documentation: https://pandas.pydata.org/pandas-docs/stable/user_guide/indexing.html#returning-a-view-versus-a-copy\n",
      "  df['ship_date'] = pd.to_datetime(df['ship_date'], errors='coerce')\n",
      "C:\\Users\\HP\\AppData\\Local\\Temp\\ipykernel_7324\\474059315.py:3: SettingWithCopyWarning: \n",
      "A value is trying to be set on a copy of a slice from a DataFrame.\n",
      "Try using .loc[row_indexer,col_indexer] = value instead\n",
      "\n",
      "See the caveats in the documentation: https://pandas.pydata.org/pandas-docs/stable/user_guide/indexing.html#returning-a-view-versus-a-copy\n",
      "  df['sales'] = pd.to_numeric(df['sales'].str.replace(',', ''), errors='coerce')\n",
      "C:\\Users\\HP\\AppData\\Local\\Temp\\ipykernel_7324\\474059315.py:4: SettingWithCopyWarning: \n",
      "A value is trying to be set on a copy of a slice from a DataFrame.\n",
      "Try using .loc[row_indexer,col_indexer] = value instead\n",
      "\n",
      "See the caveats in the documentation: https://pandas.pydata.org/pandas-docs/stable/user_guide/indexing.html#returning-a-view-versus-a-copy\n",
      "  df['quantity'] = pd.to_numeric(df['quantity'], errors='coerce')\n",
      "C:\\Users\\HP\\AppData\\Local\\Temp\\ipykernel_7324\\474059315.py:5: SettingWithCopyWarning: \n",
      "A value is trying to be set on a copy of a slice from a DataFrame.\n",
      "Try using .loc[row_indexer,col_indexer] = value instead\n",
      "\n",
      "See the caveats in the documentation: https://pandas.pydata.org/pandas-docs/stable/user_guide/indexing.html#returning-a-view-versus-a-copy\n",
      "  df['discount'] = pd.to_numeric(df['discount'], errors='coerce')\n",
      "C:\\Users\\HP\\AppData\\Local\\Temp\\ipykernel_7324\\474059315.py:6: SettingWithCopyWarning: \n",
      "A value is trying to be set on a copy of a slice from a DataFrame.\n",
      "Try using .loc[row_indexer,col_indexer] = value instead\n",
      "\n",
      "See the caveats in the documentation: https://pandas.pydata.org/pandas-docs/stable/user_guide/indexing.html#returning-a-view-versus-a-copy\n",
      "  df['profit'] = pd.to_numeric(df['profit'], errors='coerce')\n",
      "C:\\Users\\HP\\AppData\\Local\\Temp\\ipykernel_7324\\474059315.py:7: SettingWithCopyWarning: \n",
      "A value is trying to be set on a copy of a slice from a DataFrame.\n",
      "Try using .loc[row_indexer,col_indexer] = value instead\n",
      "\n",
      "See the caveats in the documentation: https://pandas.pydata.org/pandas-docs/stable/user_guide/indexing.html#returning-a-view-versus-a-copy\n",
      "  df['shipping_cost'] = pd.to_numeric(df['shipping_cost'], errors='coerce')\n"
     ]
    }
   ],
   "source": [
    "df['order_date'] = pd.to_datetime(df['order_date'], errors='coerce')\n",
    "df['ship_date'] = pd.to_datetime(df['ship_date'], errors='coerce')\n",
    "df['sales'] = pd.to_numeric(df['sales'].str.replace(',', ''), errors='coerce')\n",
    "df['quantity'] = pd.to_numeric(df['quantity'], errors='coerce')\n",
    "df['discount'] = pd.to_numeric(df['discount'], errors='coerce')\n",
    "df['profit'] = pd.to_numeric(df['profit'], errors='coerce')\n",
    "df['shipping_cost'] = pd.to_numeric(df['shipping_cost'], errors='coerce')"
   ]
  },
  {
   "cell_type": "code",
   "execution_count": null,
   "id": "b468e483",
   "metadata": {},
   "outputs": [],
   "source": []
  },
  {
   "cell_type": "code",
   "execution_count": 9,
   "id": "7e9b485f",
   "metadata": {},
   "outputs": [
    {
     "name": "stdout",
     "output_type": "stream",
     "text": [
      "<class 'pandas.core.frame.DataFrame'>\n",
      "Int64Index: 51388 entries, 0 to 51403\n",
      "Data columns (total 21 columns):\n",
      " #   Column          Non-Null Count  Dtype         \n",
      "---  ------          --------------  -----         \n",
      " 0   order_id        51388 non-null  object        \n",
      " 1   order_date      51388 non-null  datetime64[ns]\n",
      " 2   ship_date       51388 non-null  datetime64[ns]\n",
      " 3   ship_mode       51388 non-null  object        \n",
      " 4   customer_name   51388 non-null  object        \n",
      " 5   segment         51388 non-null  object        \n",
      " 6   state           51388 non-null  object        \n",
      " 7   country         51388 non-null  object        \n",
      " 8   market          51388 non-null  object        \n",
      " 9   region          51388 non-null  object        \n",
      " 10  product_id      51388 non-null  object        \n",
      " 11  category        51388 non-null  object        \n",
      " 12  sub_category    51388 non-null  object        \n",
      " 13  product_name    51388 non-null  object        \n",
      " 14  sales           51388 non-null  int64         \n",
      " 15  quantity        51388 non-null  float64       \n",
      " 16  discount        51388 non-null  float64       \n",
      " 17  profit          51388 non-null  float64       \n",
      " 18  shipping_cost   51388 non-null  float64       \n",
      " 19  order_priority  51388 non-null  object        \n",
      " 20  year            51388 non-null  int64         \n",
      "dtypes: datetime64[ns](2), float64(4), int64(2), object(13)\n",
      "memory usage: 8.6+ MB\n"
     ]
    }
   ],
   "source": [
    "df.info()"
   ]
  },
  {
   "cell_type": "code",
   "execution_count": 10,
   "id": "6b39411d",
   "metadata": {},
   "outputs": [
    {
     "data": {
      "text/html": [
       "<div>\n",
       "<style scoped>\n",
       "    .dataframe tbody tr th:only-of-type {\n",
       "        vertical-align: middle;\n",
       "    }\n",
       "\n",
       "    .dataframe tbody tr th {\n",
       "        vertical-align: top;\n",
       "    }\n",
       "\n",
       "    .dataframe thead th {\n",
       "        text-align: right;\n",
       "    }\n",
       "</style>\n",
       "<table border=\"1\" class=\"dataframe\">\n",
       "  <thead>\n",
       "    <tr style=\"text-align: right;\">\n",
       "      <th></th>\n",
       "      <th>sales</th>\n",
       "      <th>quantity</th>\n",
       "      <th>discount</th>\n",
       "      <th>profit</th>\n",
       "      <th>shipping_cost</th>\n",
       "      <th>year</th>\n",
       "    </tr>\n",
       "  </thead>\n",
       "  <tbody>\n",
       "    <tr>\n",
       "      <th>count</th>\n",
       "      <td>51388.000000</td>\n",
       "      <td>51388.000000</td>\n",
       "      <td>51388.000000</td>\n",
       "      <td>51388.000000</td>\n",
       "      <td>51388.000000</td>\n",
       "      <td>51388.000000</td>\n",
       "    </tr>\n",
       "    <tr>\n",
       "      <th>mean</th>\n",
       "      <td>246.707091</td>\n",
       "      <td>3.476376</td>\n",
       "      <td>0.142980</td>\n",
       "      <td>28.662709</td>\n",
       "      <td>26.416746</td>\n",
       "      <td>2012.774227</td>\n",
       "    </tr>\n",
       "    <tr>\n",
       "      <th>std</th>\n",
       "      <td>487.911276</td>\n",
       "      <td>2.278711</td>\n",
       "      <td>0.212325</td>\n",
       "      <td>174.510273</td>\n",
       "      <td>57.420862</td>\n",
       "      <td>1.100728</td>\n",
       "    </tr>\n",
       "    <tr>\n",
       "      <th>min</th>\n",
       "      <td>0.000000</td>\n",
       "      <td>1.000000</td>\n",
       "      <td>0.000000</td>\n",
       "      <td>-6599.978000</td>\n",
       "      <td>0.000000</td>\n",
       "      <td>2011.000000</td>\n",
       "    </tr>\n",
       "    <tr>\n",
       "      <th>25%</th>\n",
       "      <td>31.000000</td>\n",
       "      <td>2.000000</td>\n",
       "      <td>0.000000</td>\n",
       "      <td>0.000000</td>\n",
       "      <td>2.610000</td>\n",
       "      <td>2012.000000</td>\n",
       "    </tr>\n",
       "    <tr>\n",
       "      <th>50%</th>\n",
       "      <td>85.000000</td>\n",
       "      <td>3.000000</td>\n",
       "      <td>0.000000</td>\n",
       "      <td>9.240000</td>\n",
       "      <td>7.790000</td>\n",
       "      <td>2013.000000</td>\n",
       "    </tr>\n",
       "    <tr>\n",
       "      <th>75%</th>\n",
       "      <td>251.000000</td>\n",
       "      <td>5.000000</td>\n",
       "      <td>0.200000</td>\n",
       "      <td>36.810000</td>\n",
       "      <td>24.480000</td>\n",
       "      <td>2014.000000</td>\n",
       "    </tr>\n",
       "    <tr>\n",
       "      <th>max</th>\n",
       "      <td>22638.000000</td>\n",
       "      <td>14.000000</td>\n",
       "      <td>0.850000</td>\n",
       "      <td>8399.976000</td>\n",
       "      <td>933.570000</td>\n",
       "      <td>2014.000000</td>\n",
       "    </tr>\n",
       "  </tbody>\n",
       "</table>\n",
       "</div>"
      ],
      "text/plain": [
       "              sales      quantity      discount        profit  shipping_cost  \\\n",
       "count  51388.000000  51388.000000  51388.000000  51388.000000   51388.000000   \n",
       "mean     246.707091      3.476376      0.142980     28.662709      26.416746   \n",
       "std      487.911276      2.278711      0.212325    174.510273      57.420862   \n",
       "min        0.000000      1.000000      0.000000  -6599.978000       0.000000   \n",
       "25%       31.000000      2.000000      0.000000      0.000000       2.610000   \n",
       "50%       85.000000      3.000000      0.000000      9.240000       7.790000   \n",
       "75%      251.000000      5.000000      0.200000     36.810000      24.480000   \n",
       "max    22638.000000     14.000000      0.850000   8399.976000     933.570000   \n",
       "\n",
       "               year  \n",
       "count  51388.000000  \n",
       "mean    2012.774227  \n",
       "std        1.100728  \n",
       "min     2011.000000  \n",
       "25%     2012.000000  \n",
       "50%     2013.000000  \n",
       "75%     2014.000000  \n",
       "max     2014.000000  "
      ]
     },
     "execution_count": 10,
     "metadata": {},
     "output_type": "execute_result"
    }
   ],
   "source": [
    "df.describe()"
   ]
  },
  {
   "cell_type": "code",
   "execution_count": 11,
   "id": "a900453b",
   "metadata": {},
   "outputs": [
    {
     "data": {
      "text/plain": [
       "array([2011, 2012, 2013, 2014], dtype=int64)"
      ]
     },
     "execution_count": 11,
     "metadata": {},
     "output_type": "execute_result"
    }
   ],
   "source": [
    "df.year.unique()"
   ]
  },
  {
   "cell_type": "code",
   "execution_count": 12,
   "id": "099adf07",
   "metadata": {},
   "outputs": [],
   "source": [
    "#axs[1][1].plot([3, 4 ,5], [3, 4, 5], linestyle='--', color = \"green\"); #"
   ]
  },
  {
   "cell_type": "code",
   "execution_count": null,
   "id": "e5ea5c64",
   "metadata": {},
   "outputs": [],
   "source": []
  },
  {
   "cell_type": "code",
   "execution_count": null,
   "id": "1aa726f2",
   "metadata": {},
   "outputs": [],
   "source": []
  },
  {
   "cell_type": "code",
   "execution_count": 13,
   "id": "bbda2c22",
   "metadata": {},
   "outputs": [],
   "source": [
    "import seaborn as sns"
   ]
  },
  {
   "cell_type": "code",
   "execution_count": 14,
   "id": "cd73ebea",
   "metadata": {},
   "outputs": [
    {
     "data": {
      "text/plain": [
       "Consumer       26572\n",
       "Corporate      15449\n",
       "Home Office     9367\n",
       "Name: segment, dtype: int64"
      ]
     },
     "execution_count": 14,
     "metadata": {},
     "output_type": "execute_result"
    }
   ],
   "source": [
    "#Segment\n",
    "segment_counts = df[\"segment\"].value_counts()\n",
    "labels1 = segment_counts.index.to_list()\n",
    "colors = sns.color_palette(\"hls\", len(labels1))\n",
    "segment_counts\n"
   ]
  },
  {
   "cell_type": "code",
   "execution_count": 15,
   "id": "3d6913bf",
   "metadata": {},
   "outputs": [
    {
     "data": {
      "text/plain": [
       "Central           11134\n",
       "South              6655\n",
       "EMEA               5043\n",
       "North              4793\n",
       "Africa             4596\n",
       "Oceania            3489\n",
       "West               3204\n",
       "Southeast Asia     3152\n",
       "East               2855\n",
       "North Asia         2343\n",
       "Central Asia       2050\n",
       "Caribbean          1690\n",
       "Canada              384\n",
       "Name: region, dtype: int64"
      ]
     },
     "execution_count": 15,
     "metadata": {},
     "output_type": "execute_result"
    }
   ],
   "source": [
    "#region \n",
    "region_counts = df[\"region\"].value_counts()\n",
    "labels2 = region_counts.index.to_list()\n",
    "colors = sns.color_palette(\"hls\", len(labels2))\n",
    "region_counts"
   ]
  },
  {
   "cell_type": "code",
   "execution_count": 16,
   "id": "87c1e0b3",
   "metadata": {},
   "outputs": [],
   "source": [
    "#Category\n",
    "category_counts = df[\"category\"].value_counts()\n",
    "labels3 = category_counts.index.to_list()\n",
    "colors = sns.color_palette(\"hls\", len(labels3))"
   ]
  },
  {
   "cell_type": "code",
   "execution_count": 17,
   "id": "40c11405",
   "metadata": {},
   "outputs": [
    {
     "data": {
      "text/plain": [
       "Binders        6161\n",
       "Storage        5068\n",
       "Art            4898\n",
       "Paper          3548\n",
       "Chairs         3437\n",
       "Phones         3367\n",
       "Furnishings    3174\n",
       "Accessories    3079\n",
       "Labels         2611\n",
       "Envelopes      2438\n",
       "Supplies       2427\n",
       "Fasteners      2426\n",
       "Bookcases      2417\n",
       "Copiers        2227\n",
       "Appliances     1756\n",
       "Machines       1490\n",
       "Tables          864\n",
       "Name: sub_category, dtype: int64"
      ]
     },
     "execution_count": 17,
     "metadata": {},
     "output_type": "execute_result"
    }
   ],
   "source": [
    "#Sub-category\n",
    "sub_category_counts = df[\"sub_category\"].value_counts()\n",
    "labels4 = sub_category_counts.index.to_list()\n",
    "colors = sns.color_palette(\"hls\", len(labels4))\n",
    "sub_category_counts "
   ]
  },
  {
   "cell_type": "code",
   "execution_count": 18,
   "id": "2b4cbf69",
   "metadata": {},
   "outputs": [],
   "source": [
    "#ship_mode\n",
    "ship_mode_counts = df[\"ship_mode\"].value_counts()\n",
    "labels5 = ship_mode_counts.index.to_list()\n",
    "colors = sns.color_palette(\"hls\", len(labels5))"
   ]
  },
  {
   "cell_type": "code",
   "execution_count": 19,
   "id": "1cd5a5f1",
   "metadata": {},
   "outputs": [],
   "source": [
    "#Year\n",
    "year_counts = df[\"year\"].value_counts()\n",
    "labels6= year_counts.index.to_list()\n",
    "colors = sns.color_palette(\"hls\", len(labels6))"
   ]
  },
  {
   "cell_type": "code",
   "execution_count": 20,
   "id": "bf2f0532",
   "metadata": {},
   "outputs": [
    {
     "data": {
      "text/plain": [
       "2014    17545\n",
       "2013    13790\n",
       "2012    10959\n",
       "2011     9094\n",
       "Name: year, dtype: int64"
      ]
     },
     "execution_count": 20,
     "metadata": {},
     "output_type": "execute_result"
    }
   ],
   "source": [
    "year_counts = df[\"year\"].value_counts()\n",
    "year_counts"
   ]
  },
  {
   "cell_type": "code",
   "execution_count": 21,
   "id": "c2e9f98d",
   "metadata": {},
   "outputs": [],
   "source": [
    "#Average mean radius by Year\n",
    "#avg_radius_per_tumor_typ = df.groupby(by=\"Target\").mean()[[\"mean radius\"]]#Average mean radius by Year\n",
    "#"
   ]
  },
  {
   "cell_type": "code",
   "execution_count": 22,
   "id": "dd3d2df0",
   "metadata": {},
   "outputs": [],
   "source": [
    "#Sum of sales by Category\n",
    "sum_of_sales_by_category = df.groupby(by=\"category\").sum()[[\"sales\"]]\n",
    "labels7 = sum_of_sales_by_category.index"
   ]
  },
  {
   "cell_type": "code",
   "execution_count": 23,
   "id": "61f3a3c3",
   "metadata": {},
   "outputs": [
    {
     "data": {
      "text/html": [
       "<div>\n",
       "<style scoped>\n",
       "    .dataframe tbody tr th:only-of-type {\n",
       "        vertical-align: middle;\n",
       "    }\n",
       "\n",
       "    .dataframe tbody tr th {\n",
       "        vertical-align: top;\n",
       "    }\n",
       "\n",
       "    .dataframe thead th {\n",
       "        text-align: right;\n",
       "    }\n",
       "</style>\n",
       "<table border=\"1\" class=\"dataframe\">\n",
       "  <thead>\n",
       "    <tr style=\"text-align: right;\">\n",
       "      <th></th>\n",
       "      <th>sales</th>\n",
       "    </tr>\n",
       "    <tr>\n",
       "      <th>category</th>\n",
       "      <th></th>\n",
       "    </tr>\n",
       "  </thead>\n",
       "  <tbody>\n",
       "    <tr>\n",
       "      <th>Furniture</th>\n",
       "      <td>4125358</td>\n",
       "    </tr>\n",
       "    <tr>\n",
       "      <th>Office Supplies</th>\n",
       "      <td>3793743</td>\n",
       "    </tr>\n",
       "    <tr>\n",
       "      <th>Technology</th>\n",
       "      <td>4758683</td>\n",
       "    </tr>\n",
       "  </tbody>\n",
       "</table>\n",
       "</div>"
      ],
      "text/plain": [
       "                   sales\n",
       "category                \n",
       "Furniture        4125358\n",
       "Office Supplies  3793743\n",
       "Technology       4758683"
      ]
     },
     "execution_count": 23,
     "metadata": {},
     "output_type": "execute_result"
    }
   ],
   "source": [
    "sum_of_sales_by_category"
   ]
  },
  {
   "cell_type": "code",
   "execution_count": 24,
   "id": "44898c5f",
   "metadata": {},
   "outputs": [
    {
     "data": {
      "text/plain": [
       "category\n",
       "Furniture          4125358\n",
       "Office Supplies    3793743\n",
       "Technology         4758683\n",
       "Name: sales, dtype: int64"
      ]
     },
     "execution_count": 24,
     "metadata": {},
     "output_type": "execute_result"
    }
   ],
   "source": [
    "sum_of_sales_by_category['sales']"
   ]
  },
  {
   "cell_type": "code",
   "execution_count": 25,
   "id": "d036545d",
   "metadata": {},
   "outputs": [
    {
     "data": {
      "text/html": [
       "<div>\n",
       "<style scoped>\n",
       "    .dataframe tbody tr th:only-of-type {\n",
       "        vertical-align: middle;\n",
       "    }\n",
       "\n",
       "    .dataframe tbody tr th {\n",
       "        vertical-align: top;\n",
       "    }\n",
       "\n",
       "    .dataframe thead th {\n",
       "        text-align: right;\n",
       "    }\n",
       "</style>\n",
       "<table border=\"1\" class=\"dataframe\">\n",
       "  <thead>\n",
       "    <tr style=\"text-align: right;\">\n",
       "      <th></th>\n",
       "      <th>sales</th>\n",
       "    </tr>\n",
       "    <tr>\n",
       "      <th>sub_category</th>\n",
       "      <th></th>\n",
       "    </tr>\n",
       "  </thead>\n",
       "  <tbody>\n",
       "    <tr>\n",
       "      <th>Accessories</th>\n",
       "      <td>243.526145</td>\n",
       "    </tr>\n",
       "    <tr>\n",
       "      <th>Appliances</th>\n",
       "      <td>575.900342</td>\n",
       "    </tr>\n",
       "    <tr>\n",
       "      <th>Art</th>\n",
       "      <td>76.233973</td>\n",
       "    </tr>\n",
       "    <tr>\n",
       "      <th>Binders</th>\n",
       "      <td>75.023535</td>\n",
       "    </tr>\n",
       "    <tr>\n",
       "      <th>Bookcases</th>\n",
       "      <td>608.668597</td>\n",
       "    </tr>\n",
       "    <tr>\n",
       "      <th>Chairs</th>\n",
       "      <td>438.405295</td>\n",
       "    </tr>\n",
       "    <tr>\n",
       "      <th>Copiers</th>\n",
       "      <td>678.636731</td>\n",
       "    </tr>\n",
       "    <tr>\n",
       "      <th>Envelopes</th>\n",
       "      <td>70.186218</td>\n",
       "    </tr>\n",
       "    <tr>\n",
       "      <th>Fasteners</th>\n",
       "      <td>34.404782</td>\n",
       "    </tr>\n",
       "    <tr>\n",
       "      <th>Furnishings</th>\n",
       "      <td>121.759294</td>\n",
       "    </tr>\n",
       "    <tr>\n",
       "      <th>Labels</th>\n",
       "      <td>28.167369</td>\n",
       "    </tr>\n",
       "    <tr>\n",
       "      <th>Machines</th>\n",
       "      <td>524.804698</td>\n",
       "    </tr>\n",
       "    <tr>\n",
       "      <th>Paper</th>\n",
       "      <td>68.992954</td>\n",
       "    </tr>\n",
       "    <tr>\n",
       "      <th>Phones</th>\n",
       "      <td>509.528661</td>\n",
       "    </tr>\n",
       "    <tr>\n",
       "      <th>Storage</th>\n",
       "      <td>223.126283</td>\n",
       "    </tr>\n",
       "    <tr>\n",
       "      <th>Supplies</th>\n",
       "      <td>100.177998</td>\n",
       "    </tr>\n",
       "    <tr>\n",
       "      <th>Tables</th>\n",
       "      <td>880.721065</td>\n",
       "    </tr>\n",
       "  </tbody>\n",
       "</table>\n",
       "</div>"
      ],
      "text/plain": [
       "                   sales\n",
       "sub_category            \n",
       "Accessories   243.526145\n",
       "Appliances    575.900342\n",
       "Art            76.233973\n",
       "Binders        75.023535\n",
       "Bookcases     608.668597\n",
       "Chairs        438.405295\n",
       "Copiers       678.636731\n",
       "Envelopes      70.186218\n",
       "Fasteners      34.404782\n",
       "Furnishings   121.759294\n",
       "Labels         28.167369\n",
       "Machines      524.804698\n",
       "Paper          68.992954\n",
       "Phones        509.528661\n",
       "Storage       223.126283\n",
       "Supplies      100.177998\n",
       "Tables        880.721065"
      ]
     },
     "execution_count": 25,
     "metadata": {},
     "output_type": "execute_result"
    }
   ],
   "source": [
    "#Average sales by sub-category\n",
    "average_sales_by_sub_category = df.groupby(by=\"sub_category\").mean()[[\"sales\"]]\n",
    "labels9 = average_sales_by_sub_category.index\n",
    "average_sales_by_sub_category"
   ]
  },
  {
   "cell_type": "code",
   "execution_count": 26,
   "id": "7415c9d7",
   "metadata": {},
   "outputs": [],
   "source": [
    "#order_priority\n",
    "order_priority_counts = df[\"order_priority\"].value_counts()\n",
    "labels8= order_priority_counts.index.to_list()\n",
    "colors = sns.color_palette(\"hls\", len(labels8))"
   ]
  },
  {
   "cell_type": "code",
   "execution_count": 27,
   "id": "85cd15a1",
   "metadata": {},
   "outputs": [
    {
     "data": {
      "text/html": [
       "<div>\n",
       "<style scoped>\n",
       "    .dataframe tbody tr th:only-of-type {\n",
       "        vertical-align: middle;\n",
       "    }\n",
       "\n",
       "    .dataframe tbody tr th {\n",
       "        vertical-align: top;\n",
       "    }\n",
       "\n",
       "    .dataframe thead th {\n",
       "        text-align: right;\n",
       "    }\n",
       "</style>\n",
       "<table border=\"1\" class=\"dataframe\">\n",
       "  <thead>\n",
       "    <tr style=\"text-align: right;\">\n",
       "      <th></th>\n",
       "      <th>sales</th>\n",
       "    </tr>\n",
       "    <tr>\n",
       "      <th>year</th>\n",
       "      <th></th>\n",
       "    </tr>\n",
       "  </thead>\n",
       "  <tbody>\n",
       "    <tr>\n",
       "      <th>2011</th>\n",
       "      <td>2288044</td>\n",
       "    </tr>\n",
       "    <tr>\n",
       "      <th>2012</th>\n",
       "      <td>2677361</td>\n",
       "    </tr>\n",
       "    <tr>\n",
       "      <th>2013</th>\n",
       "      <td>3404810</td>\n",
       "    </tr>\n",
       "    <tr>\n",
       "      <th>2014</th>\n",
       "      <td>4307569</td>\n",
       "    </tr>\n",
       "  </tbody>\n",
       "</table>\n",
       "</div>"
      ],
      "text/plain": [
       "        sales\n",
       "year         \n",
       "2011  2288044\n",
       "2012  2677361\n",
       "2013  3404810\n",
       "2014  4307569"
      ]
     },
     "execution_count": 27,
     "metadata": {},
     "output_type": "execute_result"
    }
   ],
   "source": [
    "#Sum of sales by year\n",
    "sum_of_sales_by_year = df.groupby(by=\"year\").sum()[[\"sales\"]]\n",
    "sum_of_sales_by_year"
   ]
  },
  {
   "cell_type": "code",
   "execution_count": 37,
   "id": "d57a4922",
   "metadata": {},
   "outputs": [],
   "source": [
    "labels2 = sum_of_sales_by_year.index"
   ]
  },
  {
   "cell_type": "code",
   "execution_count": 28,
   "id": "44a8c6de",
   "metadata": {},
   "outputs": [
    {
     "data": {
      "text/html": [
       "<div>\n",
       "<style scoped>\n",
       "    .dataframe tbody tr th:only-of-type {\n",
       "        vertical-align: middle;\n",
       "    }\n",
       "\n",
       "    .dataframe tbody tr th {\n",
       "        vertical-align: top;\n",
       "    }\n",
       "\n",
       "    .dataframe thead th {\n",
       "        text-align: right;\n",
       "    }\n",
       "</style>\n",
       "<table border=\"1\" class=\"dataframe\">\n",
       "  <thead>\n",
       "    <tr style=\"text-align: right;\">\n",
       "      <th></th>\n",
       "      <th>profit</th>\n",
       "    </tr>\n",
       "    <tr>\n",
       "      <th>year</th>\n",
       "      <th></th>\n",
       "    </tr>\n",
       "  </thead>\n",
       "  <tbody>\n",
       "    <tr>\n",
       "      <th>2011</th>\n",
       "      <td>250911.97130</td>\n",
       "    </tr>\n",
       "    <tr>\n",
       "      <th>2012</th>\n",
       "      <td>307413.38730</td>\n",
       "    </tr>\n",
       "    <tr>\n",
       "      <th>2013</th>\n",
       "      <td>408283.94788</td>\n",
       "    </tr>\n",
       "    <tr>\n",
       "      <th>2014</th>\n",
       "      <td>506309.99856</td>\n",
       "    </tr>\n",
       "  </tbody>\n",
       "</table>\n",
       "</div>"
      ],
      "text/plain": [
       "            profit\n",
       "year              \n",
       "2011  250911.97130\n",
       "2012  307413.38730\n",
       "2013  408283.94788\n",
       "2014  506309.99856"
      ]
     },
     "execution_count": 28,
     "metadata": {},
     "output_type": "execute_result"
    }
   ],
   "source": [
    "#Sum of profit by year\n",
    "sum_of_profit_by_year = df.groupby(by=\"year\").sum()[[\"profit\"]]\n",
    "sum_of_profit_by_year"
   ]
  },
  {
   "cell_type": "code",
   "execution_count": 29,
   "id": "6f349a0d",
   "metadata": {},
   "outputs": [
    {
     "data": {
      "text/html": [
       "<div>\n",
       "<style scoped>\n",
       "    .dataframe tbody tr th:only-of-type {\n",
       "        vertical-align: middle;\n",
       "    }\n",
       "\n",
       "    .dataframe tbody tr th {\n",
       "        vertical-align: top;\n",
       "    }\n",
       "\n",
       "    .dataframe thead th {\n",
       "        text-align: right;\n",
       "    }\n",
       "</style>\n",
       "<table border=\"1\" class=\"dataframe\">\n",
       "  <thead>\n",
       "    <tr style=\"text-align: right;\">\n",
       "      <th></th>\n",
       "      <th>sales</th>\n",
       "    </tr>\n",
       "    <tr>\n",
       "      <th>segment</th>\n",
       "      <th></th>\n",
       "    </tr>\n",
       "  </thead>\n",
       "  <tbody>\n",
       "    <tr>\n",
       "      <th>Consumer</th>\n",
       "      <td>6529085</td>\n",
       "    </tr>\n",
       "    <tr>\n",
       "      <th>Corporate</th>\n",
       "      <td>3829429</td>\n",
       "    </tr>\n",
       "    <tr>\n",
       "      <th>Home Office</th>\n",
       "      <td>2319270</td>\n",
       "    </tr>\n",
       "  </tbody>\n",
       "</table>\n",
       "</div>"
      ],
      "text/plain": [
       "               sales\n",
       "segment             \n",
       "Consumer     6529085\n",
       "Corporate    3829429\n",
       "Home Office  2319270"
      ]
     },
     "execution_count": 29,
     "metadata": {},
     "output_type": "execute_result"
    }
   ],
   "source": [
    "#Sum of sales by Segment\n",
    "sum_of_sales_by_segment = df.groupby(by=\"segment\").sum()[[\"sales\"]]\n",
    "sum_of_sales_by_segment"
   ]
  },
  {
   "cell_type": "code",
   "execution_count": null,
   "id": "fb5a3194",
   "metadata": {},
   "outputs": [],
   "source": []
  },
  {
   "cell_type": "code",
   "execution_count": 30,
   "id": "213cf2cc",
   "metadata": {},
   "outputs": [],
   "source": [
    "#axes[1, 0].pie(species_counts, labels=labels, colors=colors, autopct=\"%.1f%%\")"
   ]
  },
  {
   "cell_type": "code",
   "execution_count": 41,
   "id": "6d7f855f",
   "metadata": {},
   "outputs": [
    {
     "data": {
      "image/png": "[encoded data removed]",
      "text/plain": [
       "<Figure size 1080x864 with 9 Axes>"
      ]
     },
     "metadata": {
      "needs_background": "light"
     },
     "output_type": "display_data"
    }
   ],
   "source": [
    "import matplotlib.pyplot as plt\n",
    "\n",
    "import numpy as np\n",
    "fig = plt.figure (figsize = (15,12))\n",
    "fig.suptitle(\"Superstore Sales Insights\", fontsize=20)\n",
    "ax  = [None for _ in range(9)]\n",
    "\n",
    "# create dashboard canvas\n",
    "ax[0] = plt.subplot2grid((3,4), (0,0), colspan=1)\n",
    "ax[1] = plt.subplot2grid((3,4), (0,1), colspan=1)\n",
    "ax[2] = plt.subplot2grid((3,4), (0,2), colspan=1)\n",
    "ax[3] = plt.subplot2grid((3,4), (0,3), colspan=1)\n",
    "ax[4] = plt.subplot2grid((3,4), (1,0), colspan=2)\n",
    "ax[5] = plt.subplot2grid((3,4), (1,2), colspan=2)\n",
    "ax[6] = plt.subplot2grid((3,4), (2,0), colspan=1)\n",
    "ax[7] = plt.subplot2grid((3,4), (2,1), colspan=1)\n",
    "ax[8] = plt.subplot2grid((3,4), (2,2), colspan=2)\n",
    "\n",
    "\n",
    "ax[0].pie(segment_counts,labels =labels1, colors=colors, autopct=\"%.1f%%\" )\n",
    "ax[0].set_title(' Segment')\n",
    "#ax[0].set_xticks([])\n",
    "#ax[0].set_yticks([])\n",
    "#ax[0].patch.set_facecolor('lightgreen')\n",
    "#ax[0].patch.set_alpha(0.6)\n",
    "\n",
    "ax[1].pie(order_priority_counts,labels =labels8, colors=colors, autopct=\"%.1f%%\" )\n",
    "ax[1].set_title(' Order_priority')\n",
    "\n",
    "ax[2].pie(category_counts ,labels =labels3, colors=colors, autopct=\"%.1f%%\" )\n",
    "ax[2].set_title(' Category')\n",
    "\n",
    "ax[3].pie(ship_mode_counts,labels =labels5, colors=colors, autopct=\"%.1f%%\" )\n",
    "ax[3].set_title('Ship_mode')\n",
    "\n",
    "ax[4].ticklabel_format(style='plain')\n",
    "ax[4].plot(sum_of_sales_by_year.index, sum_of_sales_by_year['sales'], color=\"tab:green\")\n",
    "ax[4].plot(sum_of_sales_by_year.index, sum_of_profit_by_year['profit'], color=\"tab:blue\")\n",
    "ax[4].set_xticks(ticks = sum_of_profit_by_year.index.to_list(), xticklabels=['2011','2012','2013','2014'])\n",
    "#sum_of_profit_by_year['year'].to_list()\n",
    "ax[4].set_title('Total Sales and profit by Year')\n",
    "ax[4].set_ylabel('Total Sales')\n",
    "ax[4].set_xlabel('Year')\n",
    "\n",
    "\n",
    "\n",
    "ax[5].ticklabel_format(style='plain')#To remove le6\n",
    "ax[5].bar(labels7, sum_of_sales_by_category['sales'], color=\"tab:green\", width=0.6)\n",
    "bars1 = ax[5].bar(labels7, sum_of_sales_by_category['sales'], color=\"tab:green\", width=0.6)\n",
    "ax[5].set_title('Total Sales by Category')\n",
    "ax[5].set_ylabel('Total Sales')\n",
    "ax[5].set_xlabel('Category')\n",
    "ax[5].bar_label(bars1)\n",
    "\n",
    "ax[6].bar(labels6,year_counts, color=\"tab:green\",width=0.6)\n",
    "#bars2 = ax[6].bar(labels6,year_counts, width=0.6,)\n",
    "ax[6].set_title('Total orders by year')\n",
    "#ax[6].set_xticks(ticks = year_counts.index.to_list(), xticklabels=['2014','2013','2012','2011'], rotation = 45, fontsize=35)\n",
    "ax[6].set_xlabel('Year')\n",
    "ax[6].set_ylabel('Total orders')\n",
    "#ax[6].bar_label(bars)\n",
    "ax[6].bar_label(bars2)\n",
    "\n",
    "\n",
    "ax[7].ticklabel_format(style='plain')#To remove le6\n",
    "ax[7].scatter(labels2,sum_of_sales_by_year['sales'], color=\"tab:green\")\n",
    "ax[7].set_xticks(ticks = sum_of_sales_by_year.index.to_list())\n",
    "ax[7].set_title('Total Sales by year')\n",
    "ax[7].set_xlabel('Year')\n",
    "ax[7].set_ylabel('Total sales')\n",
    "\n",
    "ax[8].ticklabel_format(style='plain')#To remove le6\n",
    "ax[8].barh(labels9, average_sales_by_sub_category['sales'], color=\"tab:green\")\n",
    "ax[8].set_title('Average Sales by Sub-Category')\n",
    "ax[8].set_ylabel('Sub-Category')\n",
    "ax[8].set_xlabel('Average Sales')\n",
    "\n",
    "\n",
    "\n",
    "#ax[5].plot(sum_of_sales_by_year,year_counts )\n",
    "\n",
    "\n",
    "fig.tight_layout(h_pad=5, w_pad=4)\n",
    "plt.savefig('common_labels.png', dpi=300)"
   ]
  },
  {
   "cell_type": "code",
   "execution_count": 43,
   "id": "e238fbad",
   "metadata": {},
   "outputs": [
    {
     "data": {
      "text/plain": [
       "'C:\\\\Users\\\\HP\\\\Documents'"
      ]
     },
     "execution_count": 43,
     "metadata": {},
     "output_type": "execute_result"
    }
   ],
   "source": [
    "import os\n",
    "os.getcwd()"
   ]
  },
  {
   "cell_type": "code",
   "execution_count": null,
   "id": "6d9fa31e",
   "metadata": {},
   "outputs": [],
   "source": []
  },
  {
   "cell_type": "code",
   "execution_count": null,
   "id": "8ca3a577",
   "metadata": {},
   "outputs": [],
   "source": []
  },
  {
   "cell_type": "code",
   "execution_count": null,
   "id": "39984063",
   "metadata": {},
   "outputs": [],
   "source": []
  },
  {
   "cell_type": "code",
   "execution_count": null,
   "id": "6611464c",
   "metadata": {},
   "outputs": [],
   "source": []
  },
  {
   "cell_type": "code",
   "execution_count": null,
   "id": "460a7352",
   "metadata": {},
   "outputs": [],
   "source": []
  },
  {
   "cell_type": "code",
   "execution_count": null,
   "id": "3d26f438",
   "metadata": {},
   "outputs": [],
   "source": []
  },
  {
   "cell_type": "code",
   "execution_count": null,
   "id": "c5138be7",
   "metadata": {},
   "outputs": [],
   "source": []
  }
 ],
 "metadata": {
  "kernelspec": {
   "display_name": "Python 3 (ipykernel)",
   "language": "python",
   "name": "python3"
  },
  "language_info": {
   "codemirror_mode": {
    "name": "ipython",
    "version": 3
   },
   "file_extension": ".py",
   "mimetype": "text/x-python",
   "name": "python",
   "nbconvert_exporter": "python",
   "pygments_lexer": "ipython3",
   "version": "3.9.12"
  }
 },
 "nbformat": 4,
 "nbformat_minor": 5
}
